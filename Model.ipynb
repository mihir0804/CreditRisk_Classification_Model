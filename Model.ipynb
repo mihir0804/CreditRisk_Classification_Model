{
 "cells": [
  {
   "cell_type": "markdown",
   "id": "76c7fb3b",
   "metadata": {},
   "source": [
    "### **Credit_Risk_Classification_Model**"
   ]
  },
  {
   "cell_type": "markdown",
   "id": "e9055802",
   "metadata": {},
   "source": [
    "#### **Problem Defination:**"
   ]
  },
  {
   "cell_type": "code",
   "execution_count": 1,
   "id": "c05b7f32",
   "metadata": {},
   "outputs": [],
   "source": [
    "# Imprt Data Manipulation Library\n",
    "import numpy as np\n",
    "import pandas as pd\n",
    "\n",
    "# Import Visualization Libraries\n",
    "import seaborn as sns\n",
    "import matplotlib.pyplot as plt\n",
    "\n",
    "# Import Filterwarning Libraries\n",
    "import warnings\n",
    "warnings.filterwarnings('ignore')\n",
    "\n",
    " # Import Logging\n",
    "import logging\n",
    "logging.basicConfig(level=logging.INFO,\n",
    "                    filename = 'model.log',\n",
    "                    filemode = 'w',\n",
    "                    format='%(asctime)s - %(levelname)s - %(message)s')\n",
    "\n",
    "# Import Scikit-learn Libraries\n",
    "from sklearn.preprocessing import MinMaxScaler, RobustScaler\n",
    "from sklearn.model_selection import train_test_split\n",
    "from sklearn.metrics import accuracy_score, confusion_matrix, classification_report"
   ]
  },
  {
   "cell_type": "code",
   "execution_count": null,
   "id": "5042c2b8",
   "metadata": {},
   "outputs": [],
   "source": []
  }
 ],
 "metadata": {
  "kernelspec": {
   "display_name": "env",
   "language": "python",
   "name": "python3"
  },
  "language_info": {
   "codemirror_mode": {
    "name": "ipython",
    "version": 3
   },
   "file_extension": ".py",
   "mimetype": "text/x-python",
   "name": "python",
   "nbconvert_exporter": "python",
   "pygments_lexer": "ipython3",
   "version": "3.12.7"
  }
 },
 "nbformat": 4,
 "nbformat_minor": 5
}
